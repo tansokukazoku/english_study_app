{
 "cells": [
  {
   "cell_type": "code",
   "execution_count": 17,
   "id": "cd673022-fddd-4f43-b36e-86d6170b924a",
   "metadata": {},
   "outputs": [],
   "source": [
    "import streamlit as st\n",
    "from googletrans import Translator\n",
    "from playsound import playsound\n",
    "import glob"
   ]
  },
  {
   "cell_type": "code",
   "execution_count": 16,
   "id": "6929f8de-7d9c-4631-b64d-f18b608ff2f5",
   "metadata": {},
   "outputs": [
    {
     "name": "stdout",
     "output_type": "stream",
     "text": [
      "おはよう\n",
      "おやすみ\n"
     ]
    }
   ],
   "source": [
    "texts = ['Good morning','Good night']\n",
    "\n",
    "for text in texts:\n",
    "    translator = Translator()\n",
    "    changetext = translator.translate(text, dest='ja')\n",
    "    print(changetext.text)"
   ]
  },
  {
   "cell_type": "code",
   "execution_count": 15,
   "id": "45fae3d9-2000-4c56-b60c-32e40a282381",
   "metadata": {},
   "outputs": [
    {
     "name": "stdout",
     "output_type": "stream",
     "text": [
      "Good morning\n",
      "Good night\n"
     ]
    }
   ],
   "source": [
    "texts = ['Good morning','Good night']\n",
    "\n",
    "for text in texts:\n",
    "    print(text)\n",
    "    "
   ]
  },
  {
   "cell_type": "code",
   "execution_count": 20,
   "id": "3c557cbb-cabd-44ad-ada5-469d00f833dd",
   "metadata": {},
   "outputs": [
    {
     "name": "stdout",
     "output_type": "stream",
     "text": [
      "おやすみ\n"
     ]
    }
   ],
   "source": [
    "texts = ['Good night']\n",
    "\n",
    "translator = Translator()\n",
    "changetext = translator.translate(text, dest='ja')\n",
    "print(changetext.text)"
   ]
  },
  {
   "cell_type": "code",
   "execution_count": null,
   "id": "ac59974e-e02c-495e-8b48-899cdc72a168",
   "metadata": {},
   "outputs": [],
   "source": [
    "Lesson3_texts = ['Do you have any comic books','Yes,I have a lot of them','Do you know the story of Cinderella',\n",
    "                 'Do you have a pet?','Yes,I do','No,I do not','Do you want some tea?','I like chocolate ice cream',\n",
    "                 'library','write','know','chair','math','science','start','study','notebook','homework','dictionary',\n",
    "                 'favorite','magazine','a lot of','name','school','English','Of course','Me,too','Yes,please']"
   ]
  },
  {
   "cell_type": "code",
   "execution_count": 24,
   "id": "5e22c209-2917-48e4-8bd8-19f7524e5ce9",
   "metadata": {},
   "outputs": [],
   "source": [
    "from gtts import gTTS\n",
    "\n",
    "Lesson3_text = \"My name is Mike. I have a pen which my grand father gave me a long time ago\"\n",
    "\n",
    "speech = gTTS(text=Lesson3_text, lang='en', slow=False)\n",
    "\n",
    "speech.save('./english_study/音声データ/Lesson3/'+Lesson3_text+'.mp3')"
   ]
  },
  {
   "cell_type": "code",
   "execution_count": 25,
   "id": "7a88fc09-2b83-4566-956b-7d3c08df1adb",
   "metadata": {},
   "outputs": [],
   "source": [
    "from gtts import gTTS\n",
    "\n",
    "Lesson3_texts = ['Do you have any comic books','Yes,I have a lot of them','Do you know the story of Cinderella',\n",
    "                 'Do you have a pet?','Yes,I do','No,I do not','Do you want some tea?','I like chocolate ice cream',\n",
    "                 'library','write','know','chair','math','science','start','study','notebook','homework','dictionary',\n",
    "                 'favorite','magazine','a lot of','name','school','English','Of course','Me,too','Yes,please']\n",
    "\n",
    "for Lesson3_text in Lesson3_texts:\n",
    "    speech = gTTS(text=Lesson3_text, lang='en', slow=False)\n",
    "    speech.save('./english_study/音声データ/Lesson3/'+Lesson3_text+'.mp3')"
   ]
  },
  {
   "cell_type": "code",
   "execution_count": 26,
   "id": "405dc788-2eb0-42a6-aede-fba5635363dc",
   "metadata": {},
   "outputs": [
    {
     "name": "stdout",
     "output_type": "stream",
     "text": [
      "Do you have any comic books\n",
      "Yes,I have a lot of them\n",
      "Do you know the story of Cinderella\n",
      "Do you have a pet?\n",
      "a lot of\n",
      "name\n",
      "school\n",
      "English\n",
      "Of course\n",
      "Me,too\n",
      "Yes,please\n"
     ]
    }
   ],
   "source": [
    "Lesson1_texts =['Do you have any comic books','Yes,I have a lot of them']\n",
    "Lesson2_texts =['Do you know the story of Cinderella','Do you have a pet?']\n",
    "Lesson3_texts =['a lot of','name','school','English','Of course','Me,too','Yes,please']\n",
    "\n",
    "Lesson_levels = ['Lesson1','Lesson2','Lesson3']\n",
    "\n",
    "for Lesson_level in Lesson_levels:\n",
    "    if Lesson_level == 'Lesson1':\n",
    "        for Lesson1_text in Lesson1_texts:\n",
    "            print(Lesson1_text)\n",
    "    elif Lesson_level == 'Lesson2':\n",
    "        for Lesson2_text in Lesson2_texts:\n",
    "            print(Lesson2_text)\n",
    "    elif Lesson_level == 'Lesson3':\n",
    "        for Lesson3_text in Lesson3_texts:\n",
    "            print(Lesson3_text)        "
   ]
  },
  {
   "cell_type": "code",
   "execution_count": null,
   "id": "3e41fb69-7f86-4069-8265-09faa14844fc",
   "metadata": {},
   "outputs": [],
   "source": [
    "Lesson3_texts = ['Do you have any comic books','Yes,I have a lot of them','Do you know the story of Cinderella',\n",
    "                 'Do you have a pet?','Yes,I do','No,I do not','Do you want some tea?','I like chocolate ice cream',\n",
    "                 'library','write','know','chair','math','science','start','study','notebook','homework','dictionary',\n",
    "                 'favorite','magazine','a lot of','name','school','English','Of course','Me,too','Yes,please']"
   ]
  },
  {
   "cell_type": "code",
   "execution_count": 3,
   "id": "23cb14d5-f0ad-41d0-b3dd-68187e6a98ee",
   "metadata": {},
   "outputs": [
    {
     "data": {
      "text/plain": [
       "'あなたはマンガの本を持っていますか'"
      ]
     },
     "execution_count": 3,
     "metadata": {},
     "output_type": "execute_result"
    }
   ],
   "source": [
    "Lesson3_texts = {'Do you have any comic books':'あなたはマンガの本を持っていますか',\n",
    "                 'Yes,I have a lot of them':'はい。私はたくさん持っています。'}\n",
    "\n",
    "t=Lesson3_texts.get('Do you have any comic books')\n",
    "t"
   ]
  },
  {
   "cell_type": "code",
   "execution_count": null,
   "id": "02b42e8b-bfc7-4792-91ee-3ac78471b17d",
   "metadata": {},
   "outputs": [],
   "source": []
  },
  {
   "cell_type": "code",
   "execution_count": null,
   "id": "cc33a570-340a-43b1-9238-ba8bf2180f20",
   "metadata": {},
   "outputs": [],
   "source": []
  },
  {
   "cell_type": "code",
   "execution_count": null,
   "id": "ce654c6c-2f86-4584-8ed0-2b307b7e15f6",
   "metadata": {},
   "outputs": [],
   "source": []
  },
  {
   "cell_type": "code",
   "execution_count": null,
   "id": "3f89b00a-58b5-45b0-904c-1349fab7b6bb",
   "metadata": {},
   "outputs": [],
   "source": []
  }
 ],
 "metadata": {
  "kernelspec": {
   "display_name": "Python 3 (ipykernel)",
   "language": "python",
   "name": "python3"
  },
  "language_info": {
   "codemirror_mode": {
    "name": "ipython",
    "version": 3
   },
   "file_extension": ".py",
   "mimetype": "text/x-python",
   "name": "python",
   "nbconvert_exporter": "python",
   "pygments_lexer": "ipython3",
   "version": "3.10.9"
  }
 },
 "nbformat": 4,
 "nbformat_minor": 5
}
